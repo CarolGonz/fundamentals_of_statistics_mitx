{
 "cells": [
  {
   "cell_type": "markdown",
   "id": "15795478-2a56-4dce-9ea8-7b3dc54dc343",
   "metadata": {},
   "source": [
    "## MITx 18.6501x - Fundamentals of Statistics"
   ]
  },
  {
   "cell_type": "markdown",
   "id": "6baee4c2-a498-4038-8ecb-2aa560c23d26",
   "metadata": {},
   "source": [
    "### Unit 1 Introduction to statistics"
   ]
  },
  {
   "cell_type": "markdown",
   "id": "7372dd58-03c1-449f-b2e1-9316af82df57",
   "metadata": {},
   "source": [
    "#### Probability review: dice rolling game\n",
    "\n",
    "    Alice and Bob play a game where two fair six-sided dice are rolled.\n",
    "    Alice gets $1 if the sum of the numbers of the two dice is a prime number. (The number  is not prime.)\n",
    "Bob gets $3 if the numbers on the two dice are the same (e.g. 1-1, 2-2, …).\n",
    "\n",
    "    Who makes more money on average (i.e. in expectation)?\n"
   ]
  },
  {
   "cell_type": "code",
   "execution_count": 1,
   "id": "95c45e73-31bf-4afe-a266-46668798d4a3",
   "metadata": {},
   "outputs": [],
   "source": [
    "def permutations(list_1, list_2):\n",
    "    \n",
    "    n_permuts = [(i,j) for i in list_1 for j in list_2]\n",
    "    \n",
    "    return n_permuts"
   ]
  },
  {
   "cell_type": "code",
   "execution_count": 2,
   "id": "b0840526-5725-4899-81e9-720ca26664a6",
   "metadata": {},
   "outputs": [
    {
     "name": "stdout",
     "output_type": "stream",
     "text": [
      "Total of possibilities are: 36\n"
     ]
    }
   ],
   "source": [
    "dice_1 = [1, 2, 3, 4, 5, 6]\n",
    "dice_2 = [1, 2, 3, 4, 5, 6]\n",
    "\n",
    "sample_space = permutations(dice_1, dice_2)\n",
    "n_sample_space = len(sample_space)\n",
    "\n",
    "print(f\"Total of possibilities are: {n_sample_space}\")"
   ]
  },
  {
   "cell_type": "code",
   "execution_count": 3,
   "id": "7ceec8a2-ea79-4a83-b6fb-abc8e9b09865",
   "metadata": {},
   "outputs": [],
   "source": [
    "import math\n",
    "\n",
    "def check_prime(x):\n",
    "    sta = 1\n",
    "    for i in range(2,int(math.sqrt(x))+1): # range[2,sqrt(num)]\n",
    "        if x%i == 0:\n",
    "            sta = 0\n",
    "            # print(\"Not Prime\")\n",
    "            return False\n",
    "    # if sta == 1:\n",
    "        # print(\"Prime\")\n",
    "\n",
    "    return True\n",
    "\n",
    "# num = int(input(\"Enter the number: \"))\n",
    "# ret = check_prime(num)\n",
    "# ret"
   ]
  },
  {
   "cell_type": "code",
   "execution_count": 4,
   "id": "be9323b3-6fa8-46ae-966e-f6a15291eb5e",
   "metadata": {},
   "outputs": [
    {
     "name": "stdout",
     "output_type": "stream",
     "text": [
      "Alice has 15 possible results\n"
     ]
    }
   ],
   "source": [
    "alice_possibilities = [(i,j) for i in dice_1 for j in dice_2 if check_prime(i+j)]\n",
    "print(f\"Alice has {len(alice_possibilities)} possible results\")"
   ]
  },
  {
   "cell_type": "code",
   "execution_count": 5,
   "id": "cc04b436-cc9a-4063-a22e-c2deaee99096",
   "metadata": {},
   "outputs": [
    {
     "name": "stdout",
     "output_type": "stream",
     "text": [
      "Bob has 6 possible results\n"
     ]
    }
   ],
   "source": [
    "bob_possibilities = [(i,j) for i in dice_1 for j in dice_2 if i==j]\n",
    "print(f\"Bob has {len(bob_possibilities)} possible results\")"
   ]
  },
  {
   "cell_type": "code",
   "execution_count": 6,
   "id": "64660d4a-e5a4-4024-957c-3b4273002631",
   "metadata": {},
   "outputs": [],
   "source": [
    "def expectation(p, x):\n",
    "    \n",
    "    expect_value = p*x\n",
    "    \n",
    "    return expect_value"
   ]
  },
  {
   "cell_type": "code",
   "execution_count": 7,
   "id": "7722f306-c44c-42a0-97a8-24fa1330f6ba",
   "metadata": {},
   "outputs": [],
   "source": [
    "p_bob = len(bob_possibilities)/n_sample_space\n",
    "p_alice = len(alice_possibilities)/n_sample_space\n",
    "\n",
    "x_bob = 3\n",
    "x_alice = 1"
   ]
  },
  {
   "cell_type": "code",
   "execution_count": 8,
   "id": "9b1a2523-ee94-4dde-a995-e42750cb0ba8",
   "metadata": {},
   "outputs": [
    {
     "data": {
      "text/plain": [
       "(0.16666666666666666, 0.4166666666666667, 3, 1)"
      ]
     },
     "execution_count": 8,
     "metadata": {},
     "output_type": "execute_result"
    }
   ],
   "source": [
    "p_bob, p_alice, x_bob, x_alice"
   ]
  },
  {
   "cell_type": "code",
   "execution_count": 9,
   "id": "d46929a4-545c-4869-b594-d6761a176b4b",
   "metadata": {},
   "outputs": [
    {
     "name": "stdout",
     "output_type": "stream",
     "text": [
      "Bob makes on average $ 0.5 and Alice makes $ 0.4166666666666667\n"
     ]
    }
   ],
   "source": [
    "bob_expectation = expectation(p_bob, x_bob)\n",
    "alice_expectation = expectation(p_alice, x_alice)\n",
    "\n",
    "print(f\"Bob makes on average $ {bob_expectation} and Alice makes $ {alice_expectation}\")"
   ]
  },
  {
   "cell_type": "markdown",
   "id": "eec05120-6f7d-49bb-9e01-141c0c936fd9",
   "metadata": {},
   "source": [
    "#### Review: probability question\n",
    "Assume that we observe three draws,  from a Bernoulli distribution with parameter . For example, imagine that in the model for the preferred head direction for kissing, either direction were actually equally likely and we observed three kissing couples.\n",
    "\n",
    "What is the probability of observing at least two ones, i.e., what is ?"
   ]
  },
  {
   "cell_type": "code",
   "execution_count": 18,
   "id": "01de2d71-d653-4dac-b46c-ceb7c1d4a108",
   "metadata": {},
   "outputs": [],
   "source": [
    "# Bernouli probability mass function\n",
    "\n",
    "def pmf(n,p):\n",
    "    f = p**n*(1-p)**(1-n)\n",
    "    \n",
    "    return f"
   ]
  },
  {
   "cell_type": "code",
   "execution_count": 19,
   "id": "0f47acd7-cdbb-478e-8ca7-4a0fc4d0c3fd",
   "metadata": {},
   "outputs": [
    {
     "data": {
      "text/plain": [
       "0.5"
      ]
     },
     "execution_count": 19,
     "metadata": {},
     "output_type": "execute_result"
    }
   ],
   "source": [
    "n = 3\n",
    "p = 1/2\n",
    "\n",
    "pmf(n, p)"
   ]
  },
  {
   "cell_type": "markdown",
   "id": "82ac5523-9c87-4311-8f44-8cb3138ad76b",
   "metadata": {},
   "source": [
    "With the setup as in the problem above, we say a group of four people is “interesting\", if there are at most five pairs who are friends. Assume that each pair of people are friends, independent of every other pair, with probability . Let  be the number of pairs that are friends in this group.\n",
    "\n",
    "What is the probability that a randomly chosen group of four people is “interesting\"? (Enter your answer as a fraction (recommended) or enter as a decimal accurate to nearest .)"
   ]
  },
  {
   "cell_type": "code",
   "execution_count": null,
   "id": "5310a5ee-a093-4057-bedb-20cc70132343",
   "metadata": {},
   "outputs": [
    {
     "name": "stdout",
     "output_type": "stream",
     "text": [
      "Binomial Probability:  0.15625\n"
     ]
    }
   ],
   "source": [
    "from scipy.stats import binom\n",
    "#calculate binomial probability\n",
    "\n",
    "result = binom.pmf(k=4, n=5, p=0.5)\n",
    "#Print the result\n",
    "print(\"Binomial Probability: \",result)"
   ]
  },
  {
   "cell_type": "markdown",
   "id": "61059026-536f-471d-92eb-c4408036385e",
   "metadata": {},
   "source": [
    "P(N <= 5) = 1 - P(N=6) = 1 - (1/2)**6 = 63/64"
   ]
  },
  {
   "cell_type": "code",
   "execution_count": 64,
   "id": "012b9390-279d-4dbd-abb7-5cd35d45b800",
   "metadata": {},
   "outputs": [
    {
     "data": {
      "text/plain": [
       "0.984375"
      ]
     },
     "execution_count": 64,
     "metadata": {},
     "output_type": "execute_result"
    }
   ],
   "source": [
    "1 - binom.pmf(k=6, n=6, p=0.5)"
   ]
  },
  {
   "cell_type": "markdown",
   "id": "367acddb-b356-4704-accf-800c242d447c",
   "metadata": {},
   "source": [
    "Following the model above, if 128 different people each observe one randomly chosen groups of four people, how many times on average do these observations lead to the conclusion that the person's chosen group is interesting?"
   ]
  },
  {
   "cell_type": "code",
   "execution_count": 68,
   "id": "f665030b-e208-41d5-86dd-e2535b4793ad",
   "metadata": {},
   "outputs": [
    {
     "data": {
      "text/plain": [
       "126.0"
      ]
     },
     "execution_count": 68,
     "metadata": {},
     "output_type": "execute_result"
    }
   ],
   "source": [
    "(1 - binom.pmf(k=6, n=6, p=0.5)) * 128"
   ]
  }
 ],
 "metadata": {
  "kernelspec": {
   "display_name": "Python 3 (ipykernel)",
   "language": "python",
   "name": "python3"
  },
  "language_info": {
   "codemirror_mode": {
    "name": "ipython",
    "version": 3
   },
   "file_extension": ".py",
   "mimetype": "text/x-python",
   "name": "python",
   "nbconvert_exporter": "python",
   "pygments_lexer": "ipython3",
   "version": "3.9.7"
  }
 },
 "nbformat": 4,
 "nbformat_minor": 5
}
