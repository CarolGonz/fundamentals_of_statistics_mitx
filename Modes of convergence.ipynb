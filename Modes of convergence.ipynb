{
 "cells": [
  {
   "cell_type": "markdown",
   "metadata": {},
   "source": [
    "## <span style=\"color:#BB0065\">Modes of Convergence</span> \n",
    "$$ X_n \\rightarrow X_o $$\n",
    "\n",
    "* Convergence almost surely\n",
    "* Convergence in probability\n",
    "* Convergence in distribution\n",
    "\n",
    "![alt text](https://miro.medium.com/max/875/1*7erwXM4J29h6IfzbeNZmaw.png)"
   ]
  },
  {
   "cell_type": "markdown",
   "metadata": {},
   "source": [
    "### Convergence in Probability"
   ]
  },
  {
   "cell_type": "code",
   "execution_count": 2,
   "metadata": {},
   "outputs": [
    {
     "data": {
      "text/plain": [
       "<matplotlib.collections.PathCollection at 0x22191907430>"
      ]
     },
     "execution_count": 2,
     "metadata": {},
     "output_type": "execute_result"
    },
    {
     "data": {
      "image/png": "[encoded data removed]",
      "text/plain": [
       "<Figure size 720x576 with 1 Axes>"
      ]
     },
     "metadata": {
      "needs_background": "light"
     },
     "output_type": "display_data"
    }
   ],
   "source": [
    "## Example \n",
    "# Uniform distribution with mean zero and range between mean-W and mean+W.\n",
    "import numpy as np\n",
    "from matplotlib import pyplot as plt\n",
    "from scipy.stats import uniform\n",
    "\n",
    "np.random.seed(0)\n",
    "\n",
    "N = (10 ** np.linspace(2, 4, 1000)).astype(int)\n",
    "mu = 0\n",
    "W = 2\n",
    "rng = uniform(mu - 0.5 * W, W) \n",
    "\n",
    "mu_estimate_mean = np.zeros(N.shape)\n",
    "\n",
    "for i in range(len(N)):\n",
    "    x = rng.rvs(N[i])\n",
    "    mu_estimate_mean[i] = np.mean(x)\n",
    "\n",
    "fig = plt.figure(figsize=(10, 8))\n",
    "fig.subplots_adjust(hspace=0, bottom=0.15, left=0.15)\n",
    "\n",
    "ax = fig.add_subplot(211, xscale='log')\n",
    "ax.scatter(N, mu_estimate_mean, c='b', lw=0, s=4)"
   ]
  },
  {
   "cell_type": "markdown",
   "metadata": {},
   "source": [
    "Obs: The higher the sample size n, the closer the sample mean is to the real parameter, which is equal to zero."
   ]
  },
  {
   "cell_type": "markdown",
   "metadata": {},
   "source": [
    "### Convergence in Distribution\n",
    "\n",
    "A sequence of random variables {Xn} with probability distribution Fn(x) is said to converge in distribution towards X, with probability distribution F(x), if:\n",
    "\n",
    "$$ \\lim_{n \\to +\\infty} F_n(x) = F(x)$$\n",
    "\n",
    "and:\n",
    "\n",
    "$$ X_n \\overset{d}\\rightarrow  X $$"
   ]
  },
  {
   "cell_type": "markdown",
   "metadata": {},
   "source": [
    "### Simulation of convergence"
   ]
  },
  {
   "cell_type": "code",
   "execution_count": 4,
   "metadata": {},
   "outputs": [],
   "source": [
    "import seaborn as sns\n",
    "import random\n",
    "import warnings\n",
    "import pandas as pd\n",
    "warnings.filterwarnings('ignore')"
   ]
  },
  {
   "cell_type": "code",
   "execution_count": 6,
   "metadata": {},
   "outputs": [],
   "source": [
    "# n is used for realized sample size and dist_n is the n of simulated RV's\n",
    "\n",
    "p = 0.65\n",
    "n = 10000\n",
    "dist_n = 100\n",
    "sample_ = np.array([1 if random.random() <= p else 0 for i in range(n)])\n",
    "rvs = np.array([[1 if random.random() <= p else 0 for i in range(n)] for j in range(dist_n)])"
   ]
  },
  {
   "cell_type": "code",
   "execution_count": 7,
   "metadata": {},
   "outputs": [
    {
     "data": {
      "image/png": "[encoded data removed]",
      "text/plain": [
       "<Figure size 432x288 with 1 Axes>"
      ]
     },
     "metadata": {
      "needs_background": "light"
     },
     "output_type": "display_data"
    },
    {
     "name": "stdout",
     "output_type": "stream",
     "text": [
      "-------------------------------------------------\n",
      "Rn_Bar converges in distribution to N(0, p(1-p))\n",
      "(p * (1-p) / n ~= 0.0011)\n",
      "-------------------------------------------------\n",
      "               R     RnBar\n",
      "mean      0.6500  0.649733\n",
      "variance  0.2275  0.002253\n",
      "\n",
      "-----------------------------------\n",
      "Rn_Bar converges in probability to p\n",
      "-----------------------------------\n",
      "estimated p: 0.6465\n"
     ]
    }
   ],
   "source": [
    "# Convergence of RnBar, the sample mean of a Bernoulli(p = 0.65)\n",
    "\n",
    "rn_bar_actual = np.mean(sample_)\n",
    "rn_bar_dist = np.mean(rvs, axis=0)\n",
    "\n",
    "plt.title('Simulated Distribution of Random Variable Rn_Bar @n=200', fontsize=14)\n",
    "sns.distplot(rn_bar_dist, bins=20)\n",
    "plt.show()\n",
    "\n",
    "print('-------------------------------------------------')\n",
    "print('Rn_Bar converges in distribution to N(0, p(1-p))')\n",
    "print(f'(p * (1-p) / n ~= {round(p * (1 - p) / 200, 4)})')\n",
    "print('-------------------------------------------------')\n",
    "table = pd.DataFrame({'R': [p, p * (1 - p)], 'RnBar': [np.mean(rn_bar_dist), np.var(rn_bar_dist)]})\n",
    "table.rename(index={0:'mean', 1:'variance'}, inplace=True)\n",
    "print(table)\n",
    "\n",
    "print('\\n-----------------------------------')\n",
    "print('Rn_Bar converges in probability to p')\n",
    "print('-----------------------------------')\n",
    "print(f'estimated p: {rn_bar_actual}')"
   ]
  }
 ],
 "metadata": {
  "interpreter": {
   "hash": "d6b5d61ac3104b8f3068c0a6f6872e0dfefc4467160938b94fdb65725df33369"
  },
  "kernelspec": {
   "display_name": "Python 3.9.7 ('base')",
   "language": "python",
   "name": "python3"
  },
  "language_info": {
   "codemirror_mode": {
    "name": "ipython",
    "version": 3
   },
   "file_extension": ".py",
   "mimetype": "text/x-python",
   "name": "python",
   "nbconvert_exporter": "python",
   "pygments_lexer": "ipython3",
   "version": "3.9.7"
  },
  "orig_nbformat": 4
 },
 "nbformat": 4,
 "nbformat_minor": 2
}
